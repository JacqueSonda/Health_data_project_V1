{
  "nbformat": 4,
  "nbformat_minor": 0,
  "metadata": {
    "colab": {
      "provenance": [],
      "authorship_tag": "ABX9TyM6tP6oRrWGaMNdpitPiCyE",
      "include_colab_link": true
    },
    "kernelspec": {
      "name": "python3",
      "display_name": "Python 3"
    },
    "language_info": {
      "name": "python"
    }
  },
  "cells": [
    {
      "cell_type": "markdown",
      "metadata": {
        "id": "view-in-github",
        "colab_type": "text"
      },
      "source": [
        "<a href=\"https://colab.research.google.com/github/JacqueSonda/Health_data_project_V1/blob/main/Test.ipynb\" target=\"_parent\"><img src=\"https://colab.research.google.com/assets/colab-badge.svg\" alt=\"Open In Colab\"/></a>"
      ]
    },
    {
      "cell_type": "markdown",
      "source": [
        " Clone GitHub Repository into Colab: Open Google Colab, Open GitHub repository in Colab\n"
      ],
      "metadata": {
        "id": "XCues7D-ByyC"
      }
    },
    {
      "cell_type": "code",
      "execution_count": 3,
      "metadata": {
        "colab": {
          "base_uri": "https://localhost:8080/"
        },
        "id": "i4zXG0nf-GxQ",
        "outputId": "933b014d-fac0-4dbc-b021-2fd9fc995037"
      },
      "outputs": [
        {
          "output_type": "stream",
          "name": "stdout",
          "text": [
            "Cloning into 'Health_data_project_V1'...\n",
            "remote: Enumerating objects: 3, done.\u001b[K\n",
            "remote: Counting objects: 100% (3/3), done.\u001b[K\n",
            "remote: Compressing objects: 100% (2/2), done.\u001b[K\n",
            "remote: Total 3 (delta 0), reused 0 (delta 0), pack-reused 0 (from 0)\u001b[K\n",
            "Receiving objects: 100% (3/3), done.\n"
          ]
        }
      ],
      "source": [
        "!git clone https://github.com/JacqueSonda/Health_data_project_V1"
      ]
    },
    {
      "cell_type": "markdown",
      "source": [
        "Push Changes from Google Colab to GitHub: Configure Git,  Add and Commit Changes, Push Changes to GitHub\n"
      ],
      "metadata": {
        "id": "GSvxDY-2BnBK"
      }
    },
    {
      "cell_type": "code",
      "source": [
        "!git config --global user.email \"learnds7@gmail.com\"\n",
        "!git config --global user.name \"Mina-DS-K\""
      ],
      "metadata": {
        "id": "CIi_IEz6BbMq"
      },
      "execution_count": 4,
      "outputs": []
    },
    {
      "cell_type": "markdown",
      "source": [],
      "metadata": {
        "id": "vVMcoXZO_DVk"
      }
    },
    {
      "cell_type": "code",
      "source": [
        "!git add .\n",
        "!git commit -m \"Your commit message\""
      ],
      "metadata": {
        "id": "sVHzzMkADObK"
      },
      "execution_count": null,
      "outputs": []
    }
  ]
}